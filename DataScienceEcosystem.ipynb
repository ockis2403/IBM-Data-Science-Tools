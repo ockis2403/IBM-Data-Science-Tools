{
 "cells": [
  {
   "cell_type": "markdown",
   "id": "bea5a13f-da17-43a8-a1eb-e73ec5d375ff",
   "metadata": {
    "tags": []
   },
   "source": [
    "# Data Science Tools and Ecosystem"
   ]
  },
  {
   "cell_type": "markdown",
   "id": "3351fe3e-3990-4556-947a-8479415b6af6",
   "metadata": {},
   "source": [
    "In this notebook, Data Science Tools and Ecosystem are summarized.\n",
    "The goal is to practice the fundamentals of Jupyter and the course.\n",
    "Code Cells, Markdown and a few lines code"
   ]
  },
  {
   "cell_type": "markdown",
   "id": "257863b4-3425-455d-8c0a-ef258aae500b",
   "metadata": {},
   "source": [
    "**Objectives:**\n",
    "* List popular languages for Data Science\n",
    "* List commonly used libraries for Data Science\n",
    "* List some tools for Data Science\n",
    "* Code for operations aritmetics\n",
    "* Format in Markdown"
   ]
  },
  {
   "cell_type": "markdown",
   "id": "6c8d3a64-1e01-4509-949d-8a6ba03a0ca5",
   "metadata": {},
   "source": [
    "Some of the popular languages that Data Scientists use are:\n",
    "| No.|Language  |\n",
    "|---:|:-------------|\n",
    "| 1 | Python  | \n",
    "| 2 | R |\n",
    "| 3 | SQL|"
   ]
  },
  {
   "cell_type": "markdown",
   "id": "fc837471-b482-4042-b9d6-70aed98149c5",
   "metadata": {},
   "source": [
    "Some of the commonly used libraries used by Data Scientists include:\n",
    "| No.|LIBRARIES  |\n",
    "|---:|:-------------|\n",
    "| 1 | Pandas | \n",
    "| 2 | Numpy |\n",
    "| 3 | Maplotlib|\n"
   ]
  },
  {
   "cell_type": "markdown",
   "id": "0d8558f0-2131-4d3e-abbf-25869b003013",
   "metadata": {
    "tags": []
   },
   "source": [
    "### Exercise 6 - Create a markdown cell with a table of Data Science tools\n",
    "\n",
    "|Data Science Tools|\n",
    "|-----------------:|\n",
    "|Watson Studio|\n",
    "|Jupyter Notebook\n",
    "|Spark|\n"
   ]
  },
  {
   "cell_type": "markdown",
   "id": "ffc6dd76-1e77-41f7-9b5a-9c31fb94a7d8",
   "metadata": {},
   "source": [
    "### Below are a few examples of evaluating arithmetic expressions in Python"
   ]
  },
  {
   "cell_type": "code",
   "execution_count": 3,
   "id": "b46b5ab7-6122-426f-aa58-4316ca2db215",
   "metadata": {
    "tags": []
   },
   "outputs": [
    {
     "name": "stdout",
     "output_type": "stream",
     "text": [
      "17\n"
     ]
    }
   ],
   "source": [
    "# This a simple arithmetic expression to mutiply then add integers\n",
    "x = (3*4)+5\n",
    "print(x)\n"
   ]
  },
  {
   "cell_type": "code",
   "execution_count": 7,
   "id": "893caa98-f1ee-496d-a7c3-95f9c572b75e",
   "metadata": {
    "tags": []
   },
   "outputs": [
    {
     "name": "stdout",
     "output_type": "stream",
     "text": [
      "200 minutes is equal to 3 hours and 20 minutes\n"
     ]
    }
   ],
   "source": [
    "# This will convert 200 minutes to hours by diving by 60\n",
    "x = 200 // 60\n",
    "y = 200 % 60\n",
    "print (f'200 minutes is equal to {x} hours and {y} minutes')"
   ]
  },
  {
   "cell_type": "markdown",
   "id": "506f0bcb-7089-4124-9c1a-f4cde039bf53",
   "metadata": {},
   "source": [
    "## Author\n",
    "Oscar Gutierrez Leal"
   ]
  },
  {
   "cell_type": "code",
   "execution_count": null,
   "id": "5e5e33a9-0d3d-4817-9ecf-f257922be395",
   "metadata": {},
   "outputs": [],
   "source": []
  }
 ],
 "metadata": {
  "kernelspec": {
   "display_name": "Python",
   "language": "python",
   "name": "conda-env-python-py"
  },
  "language_info": {
   "codemirror_mode": {
    "name": "ipython",
    "version": 3
   },
   "file_extension": ".py",
   "mimetype": "text/x-python",
   "name": "python",
   "nbconvert_exporter": "python",
   "pygments_lexer": "ipython3",
   "version": "3.7.12"
  }
 },
 "nbformat": 4,
 "nbformat_minor": 5
}
